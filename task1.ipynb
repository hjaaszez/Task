{
 "cells": [
  {
   "cell_type": "code",
   "execution_count": 2,
   "metadata": {},
   "outputs": [],
   "source": [
    "import random"
   ]
  },
  {
   "cell_type": "code",
   "execution_count": 36,
   "metadata": {},
   "outputs": [],
   "source": [
    "yamanote_line = [[\"東京\", 0, 0], [\"有楽町\", 1, 0], [\"新橋\", 2, 0], [\"浜松町\", 3, 0], [\"田町\", 4, 0], [\"品川\", 5, 0], [\"大崎\", 6, 0], [ \"五反田\", 7, 0], [\"目黒\", 8, 0], [\"恵比寿\", 9, 0]]"
   ]
  },
  {
   "cell_type": "code",
   "execution_count": 37,
   "metadata": {},
   "outputs": [],
   "source": [
    "def all(iterable):\n",
    "    for element in iterable:\n",
    "        if not element:\n",
    "            return False\n",
    "    return True"
   ]
  },
  {
   "cell_type": "code",
   "execution_count": 50,
   "metadata": {},
   "outputs": [
    {
     "name": "stdout",
     "output_type": "stream",
     "text": [
      "[['東京', 0, 0.0], ['有楽町', 1, 0.11218109310803472], ['新橋', 2, 0.11135110810933473], ['浜松町', 3, 0.11041109210763497], ['田町', 4, 0.11099111410913494], ['品川', 5, 0.11212109710993465], ['大崎', 6, 0.11059117412223488], ['五反田', 7, 0.10936111811003499], ['目黒', 8, 0.11162109811393468], ['恵比寿', 9, 0.11138110611003471]]\n"
     ]
    }
   ],
   "source": [
    "count = 100000\n",
    "for i in range(count):\n",
    "    check =[False for i in range(10)]\n",
    "    num = 0\n",
    "    init_place = yamanote_line[num][0]\n",
    "    check[yamanote_line[num][1]] = True\n",
    "\n",
    "    while all(check) == False:\n",
    "        coin = random.randint(0,1)\n",
    "        #print(coin)\n",
    "        if coin == 0:\n",
    "            num += 1\n",
    "        else:\n",
    "            num -= 1 \n",
    "\n",
    "        if num == 10 or num == -11:\n",
    "            num = 0\n",
    "\n",
    "        place = yamanote_line[num][0]\n",
    "        check[yamanote_line[num][1]] = True\n",
    "    \n",
    "    yamanote_line[num][2] += 1\n",
    "\n",
    "for i in range(10):\n",
    "    yamanote_line[i][2] = yamanote_line[i][2] / count\n",
    "\n",
    "print(yamanote_line)"
   ]
  },
  {
   "cell_type": "code",
   "execution_count": null,
   "metadata": {},
   "outputs": [],
   "source": []
  }
 ],
 "metadata": {
  "kernelspec": {
   "display_name": "tutorial",
   "language": "python",
   "name": "tutorial"
  },
  "language_info": {
   "codemirror_mode": {
    "name": "ipython",
    "version": 3
   },
   "file_extension": ".py",
   "mimetype": "text/x-python",
   "name": "python",
   "nbconvert_exporter": "python",
   "pygments_lexer": "ipython3",
   "version": "3.6.9"
  }
 },
 "nbformat": 4,
 "nbformat_minor": 4
}
