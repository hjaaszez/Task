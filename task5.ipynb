{
 "cells": [
  {
   "cell_type": "code",
   "execution_count": 1,
   "metadata": {},
   "outputs": [],
   "source": [
    "import random\n",
    "import math\n",
    "def f(x,y,z):\n",
    "    return 7*x + 12*y + 16*z - 4*x*y - 8*x*z - 16*y*z"
   ]
  },
  {
   "cell_type": "code",
   "execution_count": 34,
   "metadata": {},
   "outputs": [
    {
     "name": "stdout",
     "output_type": "stream",
     "text": [
      "[62, 81, 86, 88, 89, 94, 93, 94, 99]\n"
     ]
    }
   ],
   "source": [
    "sum = [0] * 9\n",
    "rate_list = [0.1,0.2,0.3,0.4,0.5,0.6,0.7,0.8,0.9]\n",
    "\n",
    "for rate in rate_list:\n",
    "    for i in range(100):\n",
    "        T = 10\n",
    "\n",
    "        x = 1\n",
    "        y = 1\n",
    "        z = 0\n",
    "        for m in range(50):    \n",
    "            for n in range(50):\n",
    "                coin = random.randint(1,3)\n",
    "                if coin==1:\n",
    "                    D = f(x,y,z) - f(1-x,y,z)\n",
    "                    if D>0:\n",
    "                        x = 1-x\n",
    "                    else:\n",
    "                        p = random.random()\n",
    "                        if p <= math.exp(D/T):\n",
    "                            x = 1-x\n",
    "                elif coin==2:\n",
    "                    D = f(x,y,z) - f(x,1-y,z)\n",
    "                    if D>0:\n",
    "                        y = 1-y\n",
    "                    else:\n",
    "                        p = random.random()\n",
    "                        if p <= math.exp(D/T):\n",
    "                            y = 1-y\n",
    "                else:\n",
    "                    D = f(x,y,z) - f(x,y,1-z)\n",
    "                    if D>0:\n",
    "                        z = 1-z\n",
    "                    else:\n",
    "                        p = random.random()\n",
    "                        if p <= math.exp(D/T):\n",
    "                            z = 1-z\n",
    "            #print('m=',m+1,' : ',x,y,z,' : ',f(x,y,z),' : T=',T)\n",
    "            T*=rate\n",
    "        if f(x,y,z) == 0:\n",
    "            sum[int(rate * 10) - 1] += 1\n",
    "        \n",
    "print(sum)"
   ]
  },
  {
   "cell_type": "code",
   "execution_count": 36,
   "metadata": {},
   "outputs": [
    {
     "name": "stdout",
     "output_type": "stream",
     "text": [
      "rate=0.1のとき最適値が得られる確率0.62%\n",
      "rate=0.2のとき最適値が得られる確率0.81%\n",
      "rate=0.3のとき最適値が得られる確率0.86%\n",
      "rate=0.4のとき最適値が得られる確率0.88%\n",
      "rate=0.5のとき最適値が得られる確率0.89%\n",
      "rate=0.6のとき最適値が得られる確率0.94%\n",
      "rate=0.7のとき最適値が得られる確率0.93%\n",
      "rate=0.8のとき最適値が得られる確率0.94%\n",
      "rate=0.9のとき最適値が得られる確率0.99%\n"
     ]
    }
   ],
   "source": [
    "for rate in rate_list:\n",
    "    print(f'rate={rate}のとき最適値が得られる確率{sum[int(rate*10)-1]/100}%')"
   ]
  },
  {
   "cell_type": "code",
   "execution_count": null,
   "metadata": {},
   "outputs": [],
   "source": []
  }
 ],
 "metadata": {
  "kernelspec": {
   "display_name": "Python 3",
   "language": "python",
   "name": "python3"
  },
  "language_info": {
   "codemirror_mode": {
    "name": "ipython",
    "version": 3
   },
   "file_extension": ".py",
   "mimetype": "text/x-python",
   "name": "python",
   "nbconvert_exporter": "python",
   "pygments_lexer": "ipython3",
   "version": "3.6.9"
  }
 },
 "nbformat": 4,
 "nbformat_minor": 4
}
