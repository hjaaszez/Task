{
 "cells": [
  {
   "cell_type": "code",
   "execution_count": 1,
   "metadata": {},
   "outputs": [],
   "source": [
    "import random"
   ]
  },
  {
   "cell_type": "code",
   "execution_count": 8,
   "metadata": {},
   "outputs": [],
   "source": [
    "def all(iterable):\n",
    "    for element in iterable:\n",
    "        if not element:\n",
    "            return False\n",
    "    return True"
   ]
  },
  {
   "cell_type": "code",
   "execution_count": 37,
   "metadata": {},
   "outputs": [
    {
     "name": "stdout",
     "output_type": "stream",
     "text": [
      "クーポン1枚のとき平均試行回数:1.0\n",
      "クーポン2枚のとき平均試行回数:2.9947\n",
      "クーポン3枚のとき平均試行回数:5.4994\n",
      "クーポン4枚のとき平均試行回数:8.2992\n",
      "クーポン5枚のとき平均試行回数:11.379\n",
      "クーポン6枚のとき平均試行回数:14.7838\n",
      "クーポン7枚のとき平均試行回数:18.0826\n",
      "クーポン8枚のとき平均試行回数:21.7968\n",
      "クーポン9枚のとき平均試行回数:25.381\n",
      "クーポン10枚のとき平均試行回数:29.2752\n",
      "クーポン11枚のとき平均試行回数:33.302\n",
      "クーポン12枚のとき平均試行回数:37.1471\n",
      "クーポン13枚のとき平均試行回数:41.1802\n",
      "クーポン14枚のとき平均試行回数:45.5493\n",
      "クーポン15枚のとき平均試行回数:49.678\n",
      "クーポン16枚のとき平均試行回数:54.3566\n",
      "クーポン17枚のとき平均試行回数:58.3967\n",
      "クーポン18枚のとき平均試行回数:62.9921\n",
      "クーポン19枚のとき平均試行回数:67.3547\n",
      "クーポン20枚のとき平均試行回数:71.9397\n",
      "クーポン21枚のとき平均試行回数:76.4147\n",
      "クーポン22枚のとき平均試行回数:81.7998\n",
      "クーポン23枚のとき平均試行回数:86.0854\n",
      "クーポン24枚のとき平均試行回数:90.483\n",
      "クーポン25枚のとき平均試行回数:95.4996\n",
      "クーポン26枚のとき平均試行回数:100.2852\n",
      "クーポン27枚のとき平均試行回数:105.0097\n",
      "クーポン28枚のとき平均試行回数:109.7254\n",
      "クーポン29枚のとき平均試行回数:114.7272\n"
     ]
    }
   ],
   "source": [
    "roop = 10000\n",
    "for coupon_num in range(1,30):\n",
    "    sum_count = 0\n",
    "    for i in range(roop):\n",
    "        coupon_check =[False for i in range(coupon_num)]\n",
    "        count = 0\n",
    "        #print(coupon_check)\n",
    "        while all(coupon_check)==False:\n",
    "            coupon = random.randint(1,coupon_num)\n",
    "            #print(coupon)\n",
    "            coupon_check[coupon-1] = True\n",
    "            #print(coupon_check)\n",
    "            count += 1\n",
    "\n",
    "        #print(count)\n",
    "        sum_count += count\n",
    "    print(f'クーポン{coupon_num}枚のとき平均試行回数:{sum_count/roop}')"
   ]
  },
  {
   "cell_type": "code",
   "execution_count": null,
   "metadata": {},
   "outputs": [],
   "source": []
  },
  {
   "cell_type": "code",
   "execution_count": null,
   "metadata": {},
   "outputs": [],
   "source": []
  }
 ],
 "metadata": {
  "kernelspec": {
   "display_name": "Python 3",
   "language": "python",
   "name": "python3"
  },
  "language_info": {
   "codemirror_mode": {
    "name": "ipython",
    "version": 3
   },
   "file_extension": ".py",
   "mimetype": "text/x-python",
   "name": "python",
   "nbconvert_exporter": "python",
   "pygments_lexer": "ipython3",
   "version": "3.6.9"
  }
 },
 "nbformat": 4,
 "nbformat_minor": 4
}
